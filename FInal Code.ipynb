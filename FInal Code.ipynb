import tensorflow as tf
from keras.preprocessing.image import ImageDataGenerator
import os
import numpy as np
import matplotlib.pyplot as plt

